{
 "cells": [
  {
   "cell_type": "code",
   "execution_count": null,
   "id": "initial_id",
   "metadata": {
    "collapsed": true
   },
   "outputs": [],
   "source": [
    "'''\n",
    "新的数据结构：\n",
    "输入形状：[B, 15, 288, 512]\n",
    "\n",
    "15通道 = 5帧 × 3通道(RGB)\n",
    "时序窗口：t-2, t-1, t, t+1, t+2（当前帧前后各2帧）\n",
    "\n",
    "输出形状：[B, 3, 288, 512]\n",
    "\n",
    "3通道 = 3个时间点的球位置预测\n",
    "对应：t-1, t, t+1帧的heatmap\n",
    "\n",
    "数据含义：\n",
    "输入：用5帧连续图像预测\n",
    "输出：中间3帧的球位置概率图\n",
    "'''"
   ]
  }
 ],
 "metadata": {
  "kernelspec": {
   "display_name": "Python 3",
   "language": "python",
   "name": "python3"
  },
  "language_info": {
   "codemirror_mode": {
    "name": "ipython",
    "version": 2
   },
   "file_extension": ".py",
   "mimetype": "text/x-python",
   "name": "python",
   "nbconvert_exporter": "python",
   "pygments_lexer": "ipython2",
   "version": "2.7.6"
  }
 },
 "nbformat": 4,
 "nbformat_minor": 5
}
